{
 "cells": [
  {
   "cell_type": "markdown",
   "id": "ce5e52db-8f71-4834-b12b-081a56df07d2",
   "metadata": {},
   "source": [
    "# Dataset exploration"
   ]
  },
  {
   "cell_type": "code",
   "execution_count": 25,
   "id": "5ae9bd90-e062-4ce5-af24-e4e53ec3e2fa",
   "metadata": {},
   "outputs": [
    {
     "name": "stdout",
     "output_type": "stream",
     "text": [
      "Number of Unique Products: 295\n",
      "Average Review Length: 21.608560146204557\n",
      "Number of Duplicate Reviews: 1967\n",
      "Number of Unique Brands: 11\n",
      "Average Product Rating: 4.099130278702435\n",
      "Number of Verified Buyers: 48222\n",
      "Date Range of Reviews: 2013-05-20 16:48:00 to 2022-10-22 18:12:00\n",
      "\n",
      "Number of Missing Values:\n",
      " product_id                  0\n",
      "brand_name                  0\n",
      "review_id                   0\n",
      "review_title                0\n",
      "review_text                 9\n",
      "author                      0\n",
      "review_date                 0\n",
      "review_rating               1\n",
      "is_a_buyer                  0\n",
      "pro_user                    0\n",
      "review_label            13035\n",
      "product_title               0\n",
      "mrp                         0\n",
      "price                       0\n",
      "product_rating              0\n",
      "product_rating_count        0\n",
      "product_tags            47782\n",
      "product_url                 0\n",
      "num_words_in_review         0\n",
      "dtype: int64\n",
      "\n",
      "Distribution of Review Ratings:\n",
      " review_rating\n",
      "5.0    41626\n",
      "4.0    11322\n",
      "3.0     3540\n",
      "1.0     3077\n",
      "2.0     1718\n",
      "Name: count, dtype: int64\n"
     ]
    }
   ],
   "source": [
    "import pandas as pd\n",
    "\n",
    "# Load the dataset\n",
    "file_path = 'nyka_top_brands_cosmetics_product_reviews.csv'\n",
    "df = pd.read_csv(file_path)\n",
    "\n",
    "# Number of Unique Products\n",
    "unique_products_count = df['product_id'].nunique()\n",
    "\n",
    "# Average Review Length (in words)\n",
    "df['num_words_in_review'] = df['review_text'].fillna('').apply(lambda x: len(x.split()))\n",
    "average_review_words_count = df['num_words_in_review'].mean()\n",
    "\n",
    "# Number of Duplicate Reviews based on review_text\n",
    "duplicate_reviews_count = df.duplicated(subset='review_text', keep=False).sum()\n",
    "\n",
    "# Number of Unique Brands\n",
    "unique_brands_count = df['brand_name'].nunique()\n",
    "\n",
    "# Average Product Rating\n",
    "average_product_rating_value = df['product_rating'].mean()\n",
    "\n",
    "# Number of Verified Buyers\n",
    "verified_buyer_count = df[df['is_a_buyer'] == True].shape[0]\n",
    "\n",
    "\n",
    "# Convert review_date to a datetime format\n",
    "df['review_date'] = pd.to_datetime(df['review_date'], errors='coerce')\n",
    "\n",
    "# Drop rows with invalid or missing dates\n",
    "df = df.dropna(subset=['review_date'])\n",
    "\n",
    "# Calculate the date range of reviews\n",
    "start_date = df['review_date'].min()\n",
    "end_date = df['review_date'].max()\n",
    "\n",
    "# Missing Values\n",
    "missing_values_counts = df.isnull().sum()\n",
    "\n",
    "# Distribution of Review Ratings\n",
    "review_rating_distribution = df['review_rating'].value_counts()\n",
    "\n",
    "# Print the extracted statistics\n",
    "print(\"Number of Unique Products:\", unique_products_count)\n",
    "print(\"Average Review Length:\", average_review_words_count)\n",
    "print(\"Number of Duplicate Reviews:\", duplicate_reviews_count)\n",
    "print(\"Number of Unique Brands:\", unique_brands_count)\n",
    "print(\"Average Product Rating:\", average_product_rating_value)\n",
    "print(\"Number of Verified Buyers:\", verified_buyer_count)\n",
    "print(f\"Date Range of Reviews: {start_date} to {end_date}\")\n",
    "print(\"\\nNumber of Missing Values:\\n\", missing_values_counts)\n",
    "print(\"\\nDistribution of Review Ratings:\\n\", review_rating_distribution)"
   ]
  },
  {
   "cell_type": "code",
   "execution_count": 26,
   "id": "a4dd7e64-0d52-4700-9473-b12b1d187128",
   "metadata": {},
   "outputs": [
    {
     "data": {
      "text/plain": [
       "brand_name\n",
       "Nykaa Cosmetics    17652\n",
       "Kay Beauty         13788\n",
       "Name: count, dtype: int64"
      ]
     },
     "execution_count": 26,
     "metadata": {},
     "output_type": "execute_result"
    }
   ],
   "source": [
    "top_brands = df['brand_name'].value_counts().head(2)\n",
    "top_brands"
   ]
  },
  {
   "cell_type": "markdown",
   "id": "baef3cc4-c0ac-48c7-9e25-88cf32fe3607",
   "metadata": {},
   "source": [
    "# Filtering & Cleaning Lipsticks from Nykaa Brand"
   ]
  },
  {
   "cell_type": "code",
   "execution_count": 27,
   "id": "3c95db7c-40fb-4ce3-8ae7-ae5676b0f2e8",
   "metadata": {},
   "outputs": [
    {
     "data": {
      "text/plain": [
       "5261"
      ]
     },
     "execution_count": 27,
     "metadata": {},
     "output_type": "execute_result"
    }
   ],
   "source": [
    "# Filter for Nykaa Cosmetics products\n",
    "nykaa_df = df[df['brand_name'] == 'Nykaa Cosmetics']\n",
    "\n",
    "# Identify lip-related products based on product titles containing \"lip\"\n",
    "nykaa_lip_related_df = nykaa_df[nykaa_df['product_title'].str.contains('lip', case=False, na=False)]\n",
    "\n",
    "nykaa_lip_related_df.shape[0]"
   ]
  },
  {
   "cell_type": "code",
   "execution_count": 28,
   "id": "a476e4c7-fb58-41b1-baf9-ba8592f95da3",
   "metadata": {},
   "outputs": [
    {
     "data": {
      "text/html": [
       "<div>\n",
       "<style scoped>\n",
       "    .dataframe tbody tr th:only-of-type {\n",
       "        vertical-align: middle;\n",
       "    }\n",
       "\n",
       "    .dataframe tbody tr th {\n",
       "        vertical-align: top;\n",
       "    }\n",
       "\n",
       "    .dataframe thead th {\n",
       "        text-align: right;\n",
       "    }\n",
       "</style>\n",
       "<table border=\"1\" class=\"dataframe\">\n",
       "  <thead>\n",
       "    <tr style=\"text-align: right;\">\n",
       "      <th></th>\n",
       "      <th>product_id</th>\n",
       "      <th>review_text</th>\n",
       "      <th>review_date</th>\n",
       "      <th>review_rating</th>\n",
       "      <th>product_title</th>\n",
       "    </tr>\n",
       "  </thead>\n",
       "  <tbody>\n",
       "    <tr>\n",
       "      <th>1860</th>\n",
       "      <td>950973</td>\n",
       "      <td>I loved it perfect for dusky skin</td>\n",
       "      <td>2021-07-22 15:11:00</td>\n",
       "      <td>5.0</td>\n",
       "      <td>Nykaa Matte to Last! Mini Metallic Liquid Lips...</td>\n",
       "    </tr>\n",
       "    <tr>\n",
       "      <th>9273</th>\n",
       "      <td>422905</td>\n",
       "      <td>Blueberry lipbalm has a milk fragrance but wor...</td>\n",
       "      <td>2020-06-06 03:00:00</td>\n",
       "      <td>5.0</td>\n",
       "      <td>Nykaa Serial Kisser Lip Balm - Raspberry</td>\n",
       "    </tr>\n",
       "    <tr>\n",
       "      <th>9253</th>\n",
       "      <td>422905</td>\n",
       "      <td>I liked it. Moisturize lips but i dont like it...</td>\n",
       "      <td>2020-08-10 21:05:00</td>\n",
       "      <td>5.0</td>\n",
       "      <td>Nykaa Serial Kisser Lip Balm - Raspberry</td>\n",
       "    </tr>\n",
       "    <tr>\n",
       "      <th>9252</th>\n",
       "      <td>422905</td>\n",
       "      <td>Very light to apply..n very nourishing..</td>\n",
       "      <td>2020-12-02 18:04:00</td>\n",
       "      <td>5.0</td>\n",
       "      <td>Nykaa Serial Kisser Lip Balm - Raspberry</td>\n",
       "    </tr>\n",
       "    <tr>\n",
       "      <th>9251</th>\n",
       "      <td>422905</td>\n",
       "      <td>I love this lip balm.It moisturizes my lips we...</td>\n",
       "      <td>2020-08-07 14:53:00</td>\n",
       "      <td>5.0</td>\n",
       "      <td>Nykaa Serial Kisser Lip Balm - Raspberry</td>\n",
       "    </tr>\n",
       "  </tbody>\n",
       "</table>\n",
       "</div>"
      ],
      "text/plain": [
       "      product_id                                        review_text  \\\n",
       "1860      950973                  I loved it perfect for dusky skin   \n",
       "9273      422905  Blueberry lipbalm has a milk fragrance but wor...   \n",
       "9253      422905  I liked it. Moisturize lips but i dont like it...   \n",
       "9252      422905           Very light to apply..n very nourishing..   \n",
       "9251      422905  I love this lip balm.It moisturizes my lips we...   \n",
       "\n",
       "             review_date  review_rating  \\\n",
       "1860 2021-07-22 15:11:00            5.0   \n",
       "9273 2020-06-06 03:00:00            5.0   \n",
       "9253 2020-08-10 21:05:00            5.0   \n",
       "9252 2020-12-02 18:04:00            5.0   \n",
       "9251 2020-08-07 14:53:00            5.0   \n",
       "\n",
       "                                          product_title  \n",
       "1860  Nykaa Matte to Last! Mini Metallic Liquid Lips...  \n",
       "9273           Nykaa Serial Kisser Lip Balm - Raspberry  \n",
       "9253           Nykaa Serial Kisser Lip Balm - Raspberry  \n",
       "9252           Nykaa Serial Kisser Lip Balm - Raspberry  \n",
       "9251           Nykaa Serial Kisser Lip Balm - Raspberry  "
      ]
     },
     "execution_count": 28,
     "metadata": {},
     "output_type": "execute_result"
    }
   ],
   "source": [
    "# Filter to keep only necessary columns\n",
    "filtered_df = nykaa_lip_related_df[['product_id', 'review_text', 'review_date', 'review_rating', 'product_title', 'is_a_buyer']]\n",
    "\n",
    "# Remove duplicates based on review_text\n",
    "filtered_df = filtered_df.drop_duplicates(subset='review_text')\n",
    "\n",
    "# Remove missing reviews (NaN in review_text or review_rating)\n",
    "filtered_df = filtered_df.dropna(subset=['review_text', 'review_rating'])\n",
    "\n",
    "# Keep only reviews where is_a_buyer is True (i.e verified buyers)\n",
    "filtered_df = filtered_df[filtered_df['is_a_buyer']]\n",
    "\n",
    "# Drop the is_a_buyer column as it's no longer needed\n",
    "final_df = filtered_df[['product_id', 'review_text', 'review_date', 'review_rating', 'product_title']]\n",
    "\n",
    "\n",
    "# Sort the final_df by review_rating from highest to lowest\n",
    "final_df = final_df.sort_values(by='review_rating', ascending=False)\n",
    "final_df.to_csv('nykaa_filtered_lip_products.csv', index=False)\n",
    "final_df.head()"
   ]
  },
  {
   "cell_type": "markdown",
   "id": "89c92f32-ddf3-416c-966c-c22f8fa18bcb",
   "metadata": {},
   "source": [
    "# Filtering & Cleaning Lipsticks from Kay Beauty Brand"
   ]
  },
  {
   "cell_type": "code",
   "execution_count": 29,
   "id": "d419335d-58cf-4ae7-8a08-301201d1d9c3",
   "metadata": {},
   "outputs": [
    {
     "data": {
      "text/plain": [
       "2412"
      ]
     },
     "execution_count": 29,
     "metadata": {},
     "output_type": "execute_result"
    }
   ],
   "source": [
    "# Filter for Nykaa Cosmetics products\n",
    "kay_df = df[df['brand_name'] == 'Kay Beauty']\n",
    "\n",
    "# Identify lip-related products based on product titles containing \"lip\"\n",
    "kay_lip_related_df = kay_df[kay_df['product_title'].str.contains('lip', case=False, na=False)]\n",
    "\n",
    "kay_lip_related_df.shape[0]"
   ]
  },
  {
   "cell_type": "code",
   "execution_count": 30,
   "id": "d2de9f12-99a8-4d18-a9b3-d72df77e4415",
   "metadata": {},
   "outputs": [
    {
     "data": {
      "text/html": [
       "<div>\n",
       "<style scoped>\n",
       "    .dataframe tbody tr th:only-of-type {\n",
       "        vertical-align: middle;\n",
       "    }\n",
       "\n",
       "    .dataframe tbody tr th {\n",
       "        vertical-align: top;\n",
       "    }\n",
       "\n",
       "    .dataframe thead th {\n",
       "        text-align: right;\n",
       "    }\n",
       "</style>\n",
       "<table border=\"1\" class=\"dataframe\">\n",
       "  <thead>\n",
       "    <tr style=\"text-align: right;\">\n",
       "      <th></th>\n",
       "      <th>product_id</th>\n",
       "      <th>review_text</th>\n",
       "      <th>review_date</th>\n",
       "      <th>review_rating</th>\n",
       "      <th>product_title</th>\n",
       "    </tr>\n",
       "  </thead>\n",
       "  <tbody>\n",
       "    <tr>\n",
       "      <th>48632</th>\n",
       "      <td>573572</td>\n",
       "      <td>Long-lasting, doesn't smudge</td>\n",
       "      <td>2020-03-24 09:43:00</td>\n",
       "      <td>5.0</td>\n",
       "      <td>Kay Beauty Matte Action Lip Liner</td>\n",
       "    </tr>\n",
       "    <tr>\n",
       "      <th>49964</th>\n",
       "      <td>573181</td>\n",
       "      <td>I love the smell, consistency, hydrating textu...</td>\n",
       "      <td>2021-03-18 01:48:00</td>\n",
       "      <td>5.0</td>\n",
       "      <td>Kay Beauty Matteinee Matte Lip Crayon Lipstick</td>\n",
       "    </tr>\n",
       "    <tr>\n",
       "      <th>49977</th>\n",
       "      <td>573181</td>\n",
       "      <td>Amazing shade and glides extremely smooth</td>\n",
       "      <td>2021-02-08 16:35:00</td>\n",
       "      <td>5.0</td>\n",
       "      <td>Kay Beauty Matteinee Matte Lip Crayon Lipstick</td>\n",
       "    </tr>\n",
       "    <tr>\n",
       "      <th>49976</th>\n",
       "      <td>573181</td>\n",
       "      <td>Shade is beautiful and is matte! Go for the pr...</td>\n",
       "      <td>2021-02-10 10:28:00</td>\n",
       "      <td>5.0</td>\n",
       "      <td>Kay Beauty Matteinee Matte Lip Crayon Lipstick</td>\n",
       "    </tr>\n",
       "    <tr>\n",
       "      <th>49975</th>\n",
       "      <td>573181</td>\n",
       "      <td>It's a very beautiful brown shade which looks ...</td>\n",
       "      <td>2021-02-15 16:44:00</td>\n",
       "      <td>5.0</td>\n",
       "      <td>Kay Beauty Matteinee Matte Lip Crayon Lipstick</td>\n",
       "    </tr>\n",
       "  </tbody>\n",
       "</table>\n",
       "</div>"
      ],
      "text/plain": [
       "       product_id                                        review_text  \\\n",
       "48632      573572                       Long-lasting, doesn't smudge   \n",
       "49964      573181  I love the smell, consistency, hydrating textu...   \n",
       "49977      573181          Amazing shade and glides extremely smooth   \n",
       "49976      573181  Shade is beautiful and is matte! Go for the pr...   \n",
       "49975      573181  It's a very beautiful brown shade which looks ...   \n",
       "\n",
       "              review_date  review_rating  \\\n",
       "48632 2020-03-24 09:43:00            5.0   \n",
       "49964 2021-03-18 01:48:00            5.0   \n",
       "49977 2021-02-08 16:35:00            5.0   \n",
       "49976 2021-02-10 10:28:00            5.0   \n",
       "49975 2021-02-15 16:44:00            5.0   \n",
       "\n",
       "                                        product_title  \n",
       "48632               Kay Beauty Matte Action Lip Liner  \n",
       "49964  Kay Beauty Matteinee Matte Lip Crayon Lipstick  \n",
       "49977  Kay Beauty Matteinee Matte Lip Crayon Lipstick  \n",
       "49976  Kay Beauty Matteinee Matte Lip Crayon Lipstick  \n",
       "49975  Kay Beauty Matteinee Matte Lip Crayon Lipstick  "
      ]
     },
     "execution_count": 30,
     "metadata": {},
     "output_type": "execute_result"
    }
   ],
   "source": [
    "# Filter to keep only necessary columns\n",
    "filtered_df = kay_lip_related_df[['product_id', 'review_text', 'review_date', 'review_rating', 'product_title', 'is_a_buyer']]\n",
    "\n",
    "# Remove duplicates based on review_text\n",
    "filtered_df = filtered_df.drop_duplicates(subset='review_text')\n",
    "\n",
    "# Remove missing reviews (NaN in review_text or review_rating)\n",
    "filtered_df = filtered_df.dropna(subset=['review_text', 'review_rating'])\n",
    "\n",
    "# Keep only reviews where is_a_buyer is True (i.e verified buyers)\n",
    "filtered_df = filtered_df[filtered_df['is_a_buyer']]\n",
    "\n",
    "# Drop the is_a_buyer column as it's no longer needed\n",
    "final_df = filtered_df[['product_id', 'review_text', 'review_date', 'review_rating', 'product_title']]\n",
    "\n",
    "# Sort the final_df by review_rating from highest to lowest\n",
    "final_df = final_df.sort_values(by='review_rating', ascending=False)\n",
    "final_df.to_csv('kay_filtered_lip_products.csv', index=False)\n",
    "final_df.head()"
   ]
  }
 ],
 "metadata": {
  "kernelspec": {
   "display_name": "Python 3 (ipykernel)",
   "language": "python",
   "name": "python3"
  },
  "language_info": {
   "codemirror_mode": {
    "name": "ipython",
    "version": 3
   },
   "file_extension": ".py",
   "mimetype": "text/x-python",
   "name": "python",
   "nbconvert_exporter": "python",
   "pygments_lexer": "ipython3",
   "version": "3.11.0"
  }
 },
 "nbformat": 4,
 "nbformat_minor": 5
}
