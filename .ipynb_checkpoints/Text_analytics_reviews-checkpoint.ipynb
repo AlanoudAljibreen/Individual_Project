{
 "cells": [
  {
   "cell_type": "markdown",
   "id": "ce5e52db-8f71-4834-b12b-081a56df07d2",
   "metadata": {},
   "source": [
    "# Dataset exploration"
   ]
  },
  {
   "cell_type": "code",
   "execution_count": 10,
   "id": "5ae9bd90-e062-4ce5-af24-e4e53ec3e2fa",
   "metadata": {},
   "outputs": [
    {
     "name": "stdout",
     "output_type": "stream",
     "text": [
      "Number of Unique Products: 295\n",
      "Average Review Length: 21.608560146204557\n",
      "Number of Duplicate Reviews: 1967\n",
      "Number of Unique Brands: 11\n",
      "Average Product Rating: 4.099130278702435\n",
      "Number of Verified Buyers: 47790\n",
      "Date Range of Reviews: 2013-05-20 16:48:00 to 2022-10-22 18:12:00\n",
      "\n",
      "Number of Missing Values:\n",
      " product_id                  0\n",
      "brand_name                  0\n",
      "review_id                   0\n",
      "review_title                0\n",
      "review_text                 9\n",
      "author                      0\n",
      "review_date                 0\n",
      "review_rating               1\n",
      "is_a_buyer                  0\n",
      "pro_user                    0\n",
      "review_label            13035\n",
      "product_title               0\n",
      "mrp                         0\n",
      "price                       0\n",
      "product_rating              0\n",
      "product_rating_count        0\n",
      "product_tags            47782\n",
      "product_url                 0\n",
      "num_words_in_review         0\n",
      "dtype: int64\n",
      "\n",
      "Distribution of Review Ratings:\n",
      " review_rating\n",
      "5.0    41626\n",
      "4.0    11322\n",
      "3.0     3540\n",
      "1.0     3077\n",
      "2.0     1718\n",
      "Name: count, dtype: int64\n"
     ]
    }
   ],
   "source": [
    "import pandas as pd\n",
    "\n",
    "# Load the dataset\n",
    "file_path = 'nyka_top_brands_cosmetics_product_reviews.csv'\n",
    "df = pd.read_csv(file_path)\n",
    "\n",
    "# Number of Unique Products\n",
    "unique_product_count = df['product_id'].nunique()\n",
    "\n",
    "# Average Review Length (in words)\n",
    "df['num_words_in_review'] = df['review_text'].fillna('').apply(lambda x: len(x.split()))\n",
    "average_review_word_count = df['num_words_in_review'].mean()\n",
    "\n",
    "# Number of Duplicate Reviews based on review_text\n",
    "duplicate_review_count = df.duplicated(subset='review_text', keep=False).sum()\n",
    "\n",
    "# Number of Unique Brands\n",
    "unique_brand_count = df['brand_name'].nunique()\n",
    "\n",
    "# Average Product Rating\n",
    "average_product_rating_value = df['product_rating'].mean()\n",
    "\n",
    "# Number of Verified Buyers\n",
    "verified_buyer_count = df[df['review_label'] == 'Verified Buyer'].shape[0]\n",
    "\n",
    "# Convert review_date to a datetime format\n",
    "df['review_date'] = pd.to_datetime(df['review_date'], errors='coerce')\n",
    "\n",
    "# Drop rows with invalid or missing dates\n",
    "df = df.dropna(subset=['review_date'])\n",
    "\n",
    "# Calculate the date range of reviews\n",
    "start_date = df['review_date'].min()\n",
    "end_date = df['review_date'].max()\n",
    "\n",
    "# Missing Values\n",
    "missing_value_counts = df.isnull().sum()\n",
    "\n",
    "# Distribution of Review Ratings\n",
    "review_rating_distribution = df['review_rating'].value_counts()\n",
    "\n",
    "# Print the extracted statistics\n",
    "print(\"Number of Unique Products:\", unique_product_count)\n",
    "print(\"Average Review Length:\", average_review_word_count)\n",
    "print(\"Number of Duplicate Reviews:\", duplicate_review_count)\n",
    "print(\"Number of Unique Brands:\", unique_brand_count)\n",
    "print(\"Average Product Rating:\", average_product_rating_value)\n",
    "print(\"Number of Verified Buyers:\", verified_buyer_count)\n",
    "print(f\"Date Range of Reviews: {start_date} to {end_date}\")\n",
    "print(\"\\nNumber of Missing Values:\\n\", missing_value_counts)\n",
    "print(\"\\nDistribution of Review Ratings:\\n\", review_rating_distribution)"
   ]
  },
  {
   "cell_type": "code",
   "execution_count": null,
   "id": "8be14768-dbf7-491e-a4cf-491be5bfcc3f",
   "metadata": {},
   "outputs": [],
   "source": []
  }
 ],
 "metadata": {
  "kernelspec": {
   "display_name": "Python 3 (ipykernel)",
   "language": "python",
   "name": "python3"
  },
  "language_info": {
   "codemirror_mode": {
    "name": "ipython",
    "version": 3
   },
   "file_extension": ".py",
   "mimetype": "text/x-python",
   "name": "python",
   "nbconvert_exporter": "python",
   "pygments_lexer": "ipython3",
   "version": "3.11.0"
  }
 },
 "nbformat": 4,
 "nbformat_minor": 5
}
